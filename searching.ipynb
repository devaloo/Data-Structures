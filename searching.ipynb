{
 "cells": [
  {
   "cell_type": "markdown",
   "metadata": {},
   "source": [
    "# BASIC SEARCHING ALGORITHMS"
   ]
  },
  {
   "cell_type": "markdown",
   "metadata": {},
   "source": [
    "# Linear Search \n",
    "### Time Complexity - O(n)"
   ]
  },
  {
   "cell_type": "code",
   "execution_count": 1,
   "metadata": {},
   "outputs": [],
   "source": [
    "def LinSearch(arr,val):\n",
    "    for i in range(len(arr)):\n",
    "        if arr[i] == val:\n",
    "            return i\n",
    "    return -1"
   ]
  },
  {
   "cell_type": "code",
   "execution_count": 2,
   "metadata": {},
   "outputs": [
    {
     "data": {
      "text/plain": [
       "5"
      ]
     },
     "execution_count": 2,
     "metadata": {},
     "output_type": "execute_result"
    }
   ],
   "source": [
    "LinSearch([2,7,34,12,76,45,33],45)"
   ]
  },
  {
   "cell_type": "markdown",
   "metadata": {},
   "source": [
    "# Binary Search\n",
    "### Time Complexity - O(log n)"
   ]
  },
  {
   "cell_type": "code",
   "execution_count": 3,
   "metadata": {},
   "outputs": [],
   "source": [
    "def BinSearch(arr,val):\n",
    "    left = 0\n",
    "    right = len(arr)\n",
    "    while left <= right:\n",
    "        mid = (left+right)//2\n",
    "        if arr[mid] == val:\n",
    "            return mid\n",
    "        elif arr[mid] > val:\n",
    "            right = mid-1\n",
    "        elif arr[mid] < val:\n",
    "            left = mid+1"
   ]
  },
  {
   "cell_type": "code",
   "execution_count": 4,
   "metadata": {},
   "outputs": [
    {
     "data": {
      "text/plain": [
       "[1, 4, 7, 10, 13, 16, 19]"
      ]
     },
     "execution_count": 4,
     "metadata": {},
     "output_type": "execute_result"
    }
   ],
   "source": [
    "a = list(range(1,20,3))\n",
    "a"
   ]
  },
  {
   "cell_type": "code",
   "execution_count": 5,
   "metadata": {},
   "outputs": [
    {
     "data": {
      "text/plain": [
       "4"
      ]
     },
     "execution_count": 5,
     "metadata": {},
     "output_type": "execute_result"
    }
   ],
   "source": [
    "BinSearch(a,13)"
   ]
  },
  {
   "cell_type": "markdown",
   "metadata": {},
   "source": [
    "# Jump Search"
   ]
  },
  {
   "cell_type": "code",
   "execution_count": 6,
   "metadata": {},
   "outputs": [],
   "source": [
    "def JumpSearch(arr,val):\n",
    "    n = len(arr)\n",
    "    step = n**0.5\n",
    "    \n",
    "    # Finding the block where element is \n",
    "    # present (if it is present)\n",
    "    \n",
    "    prev = 0\n",
    "    while arr[int(min(step,n)-1)] < val:\n",
    "        prev = step\n",
    "        step += n**0.5\n",
    "        if prev >= n:\n",
    "            return -1\n",
    "    # Doing a linear search for x in \n",
    "    # block beginning with prev.\n",
    "    \n",
    "    while arr[int(prev)] < val:\n",
    "        prev += 1\n",
    "        \n",
    "        # If we reached next block or end of array, element is not present.\n",
    "        \n",
    "        if prev == min(step,n):\n",
    "            return -1\n",
    "    \n",
    "    # if element is present\n",
    "    if arr[int(prev)] == val:\n",
    "        return int(prev)\n",
    "    \n",
    "    return -1"
   ]
  },
  {
   "cell_type": "code",
   "execution_count": 7,
   "metadata": {},
   "outputs": [
    {
     "data": {
      "text/plain": [
       "10"
      ]
     },
     "execution_count": 7,
     "metadata": {},
     "output_type": "execute_result"
    }
   ],
   "source": [
    "a = [ 0, 1, 1, 2, 3, 5, 8, 13, 21, 34, 55, 89, 144, 233, 377, 610 ]\n",
    "JumpSearch(a,55)"
   ]
  },
  {
   "cell_type": "markdown",
   "metadata": {},
   "source": [
    "# Interpolation Search"
   ]
  },
  {
   "cell_type": "markdown",
   "metadata": {},
   "source": [
    "### This is just an extension of Binary Search. Here, we compute `pos` . The idea of formula is to return higher value of `pos` when element to be searched is closer to `arr[high]`. And smaller value when closer to `arr[low]`  \n",
    "## pos = low + [ (x-arr[low])*(high-low) / (arr[high]-arr[low]) ]"
   ]
  },
  {
   "cell_type": "code",
   "execution_count": 8,
   "metadata": {},
   "outputs": [],
   "source": [
    "def InterpolationSearch(arr,val):\n",
    "    n = len(arr)\n",
    "    low = 0\n",
    "    high = n-1\n",
    "    while low <= high and arr[low] <= val and arr[high] >= val:\n",
    "        if low == high:\n",
    "            if arr[low] == val:\n",
    "                return low\n",
    "            return -1\n",
    "        pos = low + int(((float(high-low)/(arr[high] - arr[low])) * (val - arr[low])))\n",
    "        if arr[pos] == val:\n",
    "            return pos\n",
    "        elif arr[pos] < val:\n",
    "            low = pos+1\n",
    "        elif arr[pos] > val:\n",
    "            high = pos-1\n",
    "    return -1"
   ]
  },
  {
   "cell_type": "code",
   "execution_count": 9,
   "metadata": {},
   "outputs": [
    {
     "data": {
      "text/plain": [
       "13"
      ]
     },
     "execution_count": 9,
     "metadata": {},
     "output_type": "execute_result"
    }
   ],
   "source": [
    "a= [ 0, 1, 1, 2, 3, 5, 8, 13, 21, 34, 55, 89, 144, 233, 377, 610 ]\n",
    "InterpolationSearch(a,233)"
   ]
  }
 ],
 "metadata": {
  "kernelspec": {
   "display_name": "Python 3",
   "language": "python",
   "name": "python3"
  },
  "language_info": {
   "codemirror_mode": {
    "name": "ipython",
    "version": 3
   },
   "file_extension": ".py",
   "mimetype": "text/x-python",
   "name": "python",
   "nbconvert_exporter": "python",
   "pygments_lexer": "ipython3",
   "version": "3.7.6"
  }
 },
 "nbformat": 4,
 "nbformat_minor": 4
}
