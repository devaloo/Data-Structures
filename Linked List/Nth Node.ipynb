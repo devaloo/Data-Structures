{
 "cells": [
  {
   "cell_type": "markdown",
   "metadata": {},
   "source": [
    "# Returns the Nth node from the List - from BEGINNING & from END"
   ]
  },
  {
   "cell_type": "code",
   "execution_count": 1,
   "metadata": {},
   "outputs": [],
   "source": [
    "class Node():\n",
    "    def __init__(self,data):\n",
    "        self.data = data\n",
    "        self.next = None\n",
    "        \n",
    "class LinkedList():\n",
    "    def __init__(self):\n",
    "        self.head = None\n",
    "        \n",
    "    def push(self,data):\n",
    "        new_node = Node(data)\n",
    "        new_node.next = self.head\n",
    "        self.head = new_node\n",
    "        \n",
    "    def printList(self):\n",
    "        temp = self.head\n",
    "        while temp:\n",
    "            print(temp.data,end = ' --> ')\n",
    "            temp = temp.next\n",
    "        print(\"None\")\n",
    "        \n",
    "    def nth_node_begin(self,n):\n",
    "        count = 0\n",
    "        temp = self.head\n",
    "        while temp and count <= n:\n",
    "            if count == n:\n",
    "                print(temp.data)\n",
    "                return\n",
    "            count += 1\n",
    "            temp = temp.next\n",
    "        print(\"N value is greater than length of LinkedList\")\n",
    "        \n",
    "    def nth_node_end(self,n):\n",
    "        # Normal Approach\n",
    "        temp = self.head\n",
    "        length = 0\n",
    "        while temp:\n",
    "            length += 1\n",
    "            temp = temp.next\n",
    "        if n>length:\n",
    "            print(\"'n' value is greater than length of LinkedList\")\n",
    "            return\n",
    "        temp = self.head\n",
    "        for _ in range(0,length-n):\n",
    "            temp = temp.next\n",
    "        print(temp.data)\n",
    "    \n",
    "    def nth_node_end_twopointer(self,n):\n",
    "        \n",
    "    #  Here, we use Two Pointers Approach. We use two pointers - Main Pointer, Reference Pointer.\n",
    "    #  Both the pointers are initially pointed at head. Reference pointer is moved towards next 'n' times.\n",
    "    #  From there, Main pointer starts moving towards right along with reference pointer..until reference pointer reaches None.\n",
    "    #  By then, the Main pointer reaches, nth node from the end...So we can print that\n",
    "        \n",
    "        main_ptr = self.head\n",
    "        ref_ptr = self.head\n",
    "        count = 0\n",
    "        if self.head is not None:\n",
    "            while count < n:\n",
    "                if ref_ptr is None:\n",
    "                    print(\"'n' value is greater than length of LinkedList\")\n",
    "                    return\n",
    "                count += 1\n",
    "                ref_ptr = ref_ptr.next\n",
    "        while ref_ptr is not None:\n",
    "            main_ptr = main_ptr.next\n",
    "            ref_ptr = ref_ptr.next\n",
    "            \n",
    "        print(main_ptr.data)"
   ]
  },
  {
   "cell_type": "code",
   "execution_count": 2,
   "metadata": {},
   "outputs": [],
   "source": [
    "llist = LinkedList()"
   ]
  },
  {
   "cell_type": "code",
   "execution_count": 3,
   "metadata": {},
   "outputs": [
    {
     "name": "stdout",
     "output_type": "stream",
     "text": [
      "20 --> 15 --> 10 --> 5 --> None\n"
     ]
    }
   ],
   "source": [
    "llist.push(5)\n",
    "llist.push(10)\n",
    "llist.push(15)\n",
    "llist.push(20)\n",
    "\n",
    "llist.printList()"
   ]
  },
  {
   "cell_type": "code",
   "execution_count": 4,
   "metadata": {},
   "outputs": [
    {
     "name": "stdout",
     "output_type": "stream",
     "text": [
      "N value is greater than length of LinkedList\n"
     ]
    }
   ],
   "source": [
    "llist.nth_node_begin(4)"
   ]
  },
  {
   "cell_type": "code",
   "execution_count": 5,
   "metadata": {},
   "outputs": [
    {
     "name": "stdout",
     "output_type": "stream",
     "text": [
      "10\n"
     ]
    }
   ],
   "source": [
    "llist.nth_node_begin(2)"
   ]
  },
  {
   "cell_type": "code",
   "execution_count": 6,
   "metadata": {},
   "outputs": [
    {
     "name": "stdout",
     "output_type": "stream",
     "text": [
      "5\n"
     ]
    }
   ],
   "source": [
    "llist.nth_node_end(1)"
   ]
  },
  {
   "cell_type": "code",
   "execution_count": 7,
   "metadata": {},
   "outputs": [
    {
     "name": "stdout",
     "output_type": "stream",
     "text": [
      "15\n"
     ]
    }
   ],
   "source": [
    "llist.nth_node_end_twopointer(3)"
   ]
  },
  {
   "cell_type": "code",
   "execution_count": 8,
   "metadata": {},
   "outputs": [
    {
     "name": "stdout",
     "output_type": "stream",
     "text": [
      "'n' value is greater than length of LinkedList\n"
     ]
    }
   ],
   "source": [
    "llist.nth_node_end_twopointer(5)"
   ]
  },
  {
   "cell_type": "code",
   "execution_count": null,
   "metadata": {},
   "outputs": [],
   "source": []
  }
 ],
 "metadata": {
  "kernelspec": {
   "display_name": "Python 3",
   "language": "python",
   "name": "python3"
  },
  "language_info": {
   "codemirror_mode": {
    "name": "ipython",
    "version": 3
   },
   "file_extension": ".py",
   "mimetype": "text/x-python",
   "name": "python",
   "nbconvert_exporter": "python",
   "pygments_lexer": "ipython3",
   "version": "3.7.6"
  }
 },
 "nbformat": 4,
 "nbformat_minor": 4
}
