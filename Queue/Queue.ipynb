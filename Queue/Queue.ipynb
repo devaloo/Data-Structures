{
 "cells": [
  {
   "cell_type": "markdown",
   "metadata": {},
   "source": [
    "# Queue - First In First Out\n",
    "\n",
    "## Operations on Queue:\n",
    "### Mainly the following four basic operations are performed on queue:\n",
    "\n",
    "### Enqueue: Adds an item to the queue. If the queue is full, then it is said to be an Overflow condition.\n",
    "### Dequeue: Removes an item from the queue. The items are popped in the same order in which they are pushed. If the queue is empty, then it is said to be an Underflow condition.\n",
    "\n",
    "### Front: Get the front item from queue.\n",
    "### Rear: Get the last item from queue."
   ]
  },
  {
   "attachments": {
    "image.png": {
     "image/png": "[encoded data removed]"
    }
   },
   "cell_type": "markdown",
   "metadata": {},
   "source": [
    "![image.png](attachment:image.png)"
   ]
  },
  {
   "cell_type": "markdown",
   "metadata": {},
   "source": [
    "# Array Implementation"
   ]
  },
  {
   "cell_type": "code",
   "execution_count": 1,
   "metadata": {},
   "outputs": [],
   "source": [
    "class Queue():\n",
    "    def __init__(self,capacity):\n",
    "        self.front = self.size = 0\n",
    "        self.capacity = capacity\n",
    "        self.rear = capacity - 1\n",
    "        self.Q = [None]*capacity\n",
    "        \n",
    "    def isEmpty(self):\n",
    "        return self.size == 0\n",
    "    \n",
    "    def isFull(self):\n",
    "        return self.size == self.capacity\n",
    "    \n",
    "    def EnQueue(self,data):\n",
    "       ## It changes rear and size\n",
    "        if self.isFull():\n",
    "            print(\"Full\")\n",
    "            return\n",
    "        self.rear = (self.rear + 1)% self.capacity\n",
    "        self.Q[self.rear] = data\n",
    "        self.size += 1\n",
    "        print(\"{} added to the Queue\".format(data))\n",
    "        \n",
    "    def DeQueue(self):\n",
    "        ## It changes front and size\n",
    "        if self.isEmpty():\n",
    "            print(\"Queue is empty\")\n",
    "            return\n",
    "        print(\"{} is removed from the Queue\".format(self.Q[self.front]))\n",
    "        self.front = (self.front + 1) % self.capacity\n",
    "        self.size -= 1\n",
    "        \n",
    "    def que_front(self):\n",
    "        if self.isEmpty():\n",
    "            print(\"Queue is empty\")\n",
    "            return\n",
    "        print(\"The front item is {}\".format(self.Q[self.front]))\n",
    "        \n",
    "    def que_rear(self):\n",
    "        if self.isEmpty():\n",
    "            print(\"Queue is empty\")\n",
    "            return\n",
    "        print(\"The rear item is {}\".format(self.Q[self.rear]))"
   ]
  },
  {
   "cell_type": "code",
   "execution_count": 2,
   "metadata": {},
   "outputs": [
    {
     "name": "stdout",
     "output_type": "stream",
     "text": [
      "$$  Queues  $$\n",
      "\n",
      "5 added to the Queue\n",
      "10 added to the Queue\n",
      "15 added to the Queue\n",
      "20 added to the Queue\n",
      "\n",
      "capacity of q is : 10\n",
      "\n",
      "5 is removed from the Queue\n",
      "10 is removed from the Queue\n",
      "The rear item is 20\n",
      "The front item is 15\n",
      "15 is removed from the Queue\n",
      "20 is removed from the Queue\n",
      "Is q empty ? \n",
      "Ans : True\n"
     ]
    }
   ],
   "source": [
    "if __name__ == '__main__':\n",
    "    print(\"$$  Queues  $$\\n\")\n",
    "\n",
    "q = Queue(10)\n",
    "q.EnQueue(5)\n",
    "q.EnQueue(10)\n",
    "q.EnQueue(15)\n",
    "q.EnQueue(20)\n",
    "print(\"\\ncapacity of q is : {}\\n\".format(q.capacity))\n",
    "q.DeQueue()\n",
    "q.DeQueue()\n",
    "q.que_rear()\n",
    "q.que_front()\n",
    "q.DeQueue()\n",
    "q.DeQueue()\n",
    "print(\"Is q empty ? \\nAns :\",q.isEmpty())"
   ]
  },
  {
   "cell_type": "markdown",
   "metadata": {},
   "source": [
    "# Linked List Implementation - via Nodes"
   ]
  },
  {
   "cell_type": "code",
   "execution_count": 3,
   "metadata": {},
   "outputs": [],
   "source": [
    "class Node():\n",
    "    def __init__(self,data):\n",
    "        self.data = data\n",
    "        self.next = None\n",
    "        \n",
    "class Queue():\n",
    "    def __init__(self):\n",
    "        self.front = self.rear = None\n",
    "        \n",
    "    def isEmpty(self):\n",
    "        return self.front == None\n",
    "    \n",
    "    def EnQueue(self,data):\n",
    "        temp = Node(data)\n",
    "        if self.rear == None:\n",
    "            self.rear = self.front = temp\n",
    "            return\n",
    "        self.rear.next = temp\n",
    "        self.rear = temp\n",
    "        \n",
    "    def DeQueue(self):\n",
    "        if self.isEmpty():\n",
    "            print(\"Queue is empt\")\n",
    "            return\n",
    "        temp = self.front\n",
    "        self.front = temp.next\n",
    "        if self.front == None:\n",
    "            self.rear = None"
   ]
  },
  {
   "cell_type": "code",
   "execution_count": 4,
   "metadata": {},
   "outputs": [],
   "source": [
    "q = Queue()\n",
    "q.EnQueue(5)\n",
    "q.EnQueue(10)\n",
    "q.EnQueue(15)\n",
    "q.EnQueue(20)"
   ]
  },
  {
   "cell_type": "code",
   "execution_count": 5,
   "metadata": {},
   "outputs": [
    {
     "name": "stdout",
     "output_type": "stream",
     "text": [
      "5\n",
      "20\n"
     ]
    }
   ],
   "source": [
    "print(q.front.data)\n",
    "print(q.rear.data)"
   ]
  },
  {
   "cell_type": "code",
   "execution_count": 6,
   "metadata": {},
   "outputs": [],
   "source": [
    "q.DeQueue()\n",
    "q.DeQueue()"
   ]
  },
  {
   "cell_type": "code",
   "execution_count": 7,
   "metadata": {},
   "outputs": [
    {
     "name": "stdout",
     "output_type": "stream",
     "text": [
      "15\n",
      "20\n"
     ]
    }
   ],
   "source": [
    "print(q.front.data)\n",
    "print(q.rear.data)"
   ]
  }
 ],
 "metadata": {
  "kernelspec": {
   "display_name": "Python 3",
   "language": "python",
   "name": "python3"
  },
  "language_info": {
   "codemirror_mode": {
    "name": "ipython",
    "version": 3
   },
   "file_extension": ".py",
   "mimetype": "text/x-python",
   "name": "python",
   "nbconvert_exporter": "python",
   "pygments_lexer": "ipython3",
   "version": "3.7.6"
  }
 },
 "nbformat": 4,
 "nbformat_minor": 4
}
