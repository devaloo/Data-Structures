{
 "cells": [
  {
   "cell_type": "markdown",
   "metadata": {},
   "source": [
    "# Singly Linked List --  Insertion"
   ]
  },
  {
   "cell_type": "code",
   "execution_count": 1,
   "metadata": {},
   "outputs": [],
   "source": [
    "class Node():\n",
    "    def __init__(self,data):\n",
    "        self.data = data\n",
    "        self.next = None\n",
    "        \n",
    "class LinkedList():\n",
    "    def __init__(self):\n",
    "        self.head = None\n",
    "        \n",
    "    def add_at_start(self,val):\n",
    "        new_node = Node(val)\n",
    "        if self.head is None:\n",
    "            self.head = new_node\n",
    "            return\n",
    "        new_node.next = self.head\n",
    "        self.head = new_node\n",
    "    \n",
    "    def addAfter(self,prev_node,val):\n",
    "        new_node = Node(val)\n",
    "        if prev_node is None:\n",
    "            print(\"The previous node must be present in Linked List\")\n",
    "            return\n",
    "        new_node.next = prev_node.next\n",
    "        prev_node.next = new_node\n",
    "        \n",
    "    def add_at_end(self,val):\n",
    "        new_node = Node(val)\n",
    "        if self.head is None:\n",
    "            self.head = new_node\n",
    "            return\n",
    "        last = self.head\n",
    "        while last.next:\n",
    "            last = last.next\n",
    "            \n",
    "        last.next = new_node\n",
    "        \n",
    "    def printList(self):\n",
    "        temp = self.head\n",
    "        while temp:\n",
    "            print(temp.data,end = ' --> ')\n",
    "            temp = temp.next\n",
    "        print(\"None\")\n",
    "        "
   ]
  },
  {
   "cell_type": "code",
   "execution_count": 2,
   "metadata": {},
   "outputs": [
    {
     "name": "stdout",
     "output_type": "stream",
     "text": [
      "None\n"
     ]
    }
   ],
   "source": [
    "llist = LinkedList()\n",
    "llist.printList()"
   ]
  },
  {
   "cell_type": "code",
   "execution_count": 3,
   "metadata": {},
   "outputs": [
    {
     "name": "stdout",
     "output_type": "stream",
     "text": [
      "5 --> 10 --> 20 --> None\n"
     ]
    }
   ],
   "source": [
    "llist.add_at_start(20)\n",
    "llist.add_at_start(10)\n",
    "llist.add_at_start(5)\n",
    "\n",
    "llist.printList()"
   ]
  },
  {
   "cell_type": "code",
   "execution_count": 4,
   "metadata": {},
   "outputs": [
    {
     "name": "stdout",
     "output_type": "stream",
     "text": [
      "5 --> 10 --> 15 --> 20 --> None\n"
     ]
    }
   ],
   "source": [
    "# To add 15 after 10 in the linkedlist\n",
    "\n",
    "llist.addAfter(llist.head.next,15)\n",
    "\n",
    "llist.printList()"
   ]
  },
  {
   "cell_type": "code",
   "execution_count": 5,
   "metadata": {},
   "outputs": [
    {
     "name": "stdout",
     "output_type": "stream",
     "text": [
      "5 --> 10 --> 15 --> 20 --> 25 --> 30 --> None\n"
     ]
    }
   ],
   "source": [
    "# Adding 25,30 at the end\n",
    "\n",
    "llist.add_at_end(25)\n",
    "llist.add_at_end(30)\n",
    "\n",
    "llist.printList()"
   ]
  }
 ],
 "metadata": {
  "kernelspec": {
   "display_name": "Python 3",
   "language": "python",
   "name": "python3"
  },
  "language_info": {
   "codemirror_mode": {
    "name": "ipython",
    "version": 3
   },
   "file_extension": ".py",
   "mimetype": "text/x-python",
   "name": "python",
   "nbconvert_exporter": "python",
   "pygments_lexer": "ipython3",
   "version": "3.7.6"
  }
 },
 "nbformat": 4,
 "nbformat_minor": 4
}
