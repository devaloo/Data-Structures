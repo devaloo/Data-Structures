{
 "cells": [
  {
   "cell_type": "markdown",
   "metadata": {},
   "source": [
    "# STACK"
   ]
  },
  {
   "cell_type": "code",
   "execution_count": 1,
   "metadata": {},
   "outputs": [],
   "source": [
    "class Stack:\n",
    "    def __init__(self):\n",
    "        self.items = []\n",
    "    \n",
    "    def push(self,val):\n",
    "        self.items.append(val)\n",
    "    \n",
    "    def isEmpty(self):\n",
    "        return len(self.items) == 0\n",
    "    \n",
    "    def pop(self):\n",
    "        if self.isEmpty():\n",
    "            return \"Stack is empty\"\n",
    "        return self.items.pop()\n",
    "    \n",
    "    def peek(self):\n",
    "        if self.isEmpty():\n",
    "            return \"Stack is empty\"\n",
    "        return self.items[-1]\n",
    "    \n",
    "    def size(self):\n",
    "        return len(self.items)"
   ]
  },
  {
   "cell_type": "code",
   "execution_count": 2,
   "metadata": {},
   "outputs": [],
   "source": [
    "s1 = Stack()\n",
    "s1.push(5)\n",
    "s1.push(10)"
   ]
  },
  {
   "cell_type": "code",
   "execution_count": 3,
   "metadata": {},
   "outputs": [
    {
     "data": {
      "text/plain": [
       "10"
      ]
     },
     "execution_count": 3,
     "metadata": {},
     "output_type": "execute_result"
    }
   ],
   "source": [
    "s1.peek()"
   ]
  },
  {
   "cell_type": "code",
   "execution_count": 4,
   "metadata": {},
   "outputs": [
    {
     "data": {
      "text/plain": [
       "10"
      ]
     },
     "execution_count": 4,
     "metadata": {},
     "output_type": "execute_result"
    }
   ],
   "source": [
    "s1.pop()"
   ]
  },
  {
   "cell_type": "code",
   "execution_count": 5,
   "metadata": {},
   "outputs": [
    {
     "data": {
      "text/plain": [
       "5"
      ]
     },
     "execution_count": 5,
     "metadata": {},
     "output_type": "execute_result"
    }
   ],
   "source": [
    "s1.peek()"
   ]
  },
  {
   "cell_type": "code",
   "execution_count": 6,
   "metadata": {},
   "outputs": [
    {
     "data": {
      "text/plain": [
       "1"
      ]
     },
     "execution_count": 6,
     "metadata": {},
     "output_type": "execute_result"
    }
   ],
   "source": [
    "s1.size()"
   ]
  },
  {
   "cell_type": "code",
   "execution_count": 7,
   "metadata": {},
   "outputs": [
    {
     "data": {
      "text/plain": [
       "True"
      ]
     },
     "execution_count": 7,
     "metadata": {},
     "output_type": "execute_result"
    }
   ],
   "source": [
    "s1.pop()\n",
    "s1.isEmpty()"
   ]
  },
  {
   "cell_type": "code",
   "execution_count": 8,
   "metadata": {},
   "outputs": [
    {
     "data": {
      "text/plain": [
       "'Stack is empty'"
      ]
     },
     "execution_count": 8,
     "metadata": {},
     "output_type": "execute_result"
    }
   ],
   "source": [
    "s1.peek()"
   ]
  },
  {
   "cell_type": "markdown",
   "metadata": {},
   "source": [
    "# Balanced Paranthesis Checking"
   ]
  },
  {
   "cell_type": "code",
   "execution_count": 9,
   "metadata": {},
   "outputs": [],
   "source": [
    "def Is_Paranthesis_Balanced(string):\n",
    "    d = {'(':')','{':'}','[':']'}\n",
    "    s = Stack()\n",
    "    for i in string:\n",
    "        if i in \"({[\":\n",
    "            s.push(i)\n",
    "        if i in \")}]\":\n",
    "            if s.isEmpty():\n",
    "                return False\n",
    "            else:\n",
    "                if not d[s.pop()] == i:\n",
    "                    return False\n",
    "    return s.isEmpty()"
   ]
  },
  {
   "cell_type": "code",
   "execution_count": 10,
   "metadata": {},
   "outputs": [
    {
     "name": "stdout",
     "output_type": "stream",
     "text": [
      "True\n",
      "False\n",
      "True\n",
      "True\n",
      "False\n",
      "True\n"
     ]
    }
   ],
   "source": [
    "print(Is_Paranthesis_Balanced(\"({a+b})\"))\n",
    "print(Is_Paranthesis_Balanced(\"))((a+b}{\"))\n",
    "print(Is_Paranthesis_Balanced(\"((a+b))\"))\n",
    "print(Is_Paranthesis_Balanced(\"([a+g])\"))\n",
    "print(Is_Paranthesis_Balanced(\"))\"))\n",
    "print(Is_Paranthesis_Balanced(\"[a+b]*(x+2y)*{gg+kk}\"))"
   ]
  },
  {
   "cell_type": "markdown",
   "metadata": {},
   "source": [
    "# Decimal to Binary"
   ]
  },
  {
   "cell_type": "code",
   "execution_count": 11,
   "metadata": {},
   "outputs": [],
   "source": [
    "def dec_to_bin(num):\n",
    "    st = Stack()\n",
    "    while num > 0:\n",
    "        st.push(num%2)\n",
    "        num //= 2\n",
    "    while not st.isEmpty():\n",
    "        print(st.pop(),end = '')\n",
    "    print()"
   ]
  },
  {
   "cell_type": "code",
   "execution_count": 12,
   "metadata": {},
   "outputs": [
    {
     "name": "stdout",
     "output_type": "stream",
     "text": [
      "1  - 1\n",
      "2  - 10\n",
      "3  - 11\n",
      "4  - 100\n",
      "5  - 101\n",
      "6  - 110\n",
      "7  - 111\n",
      "8  - 1000\n",
      "9  - 1001\n",
      "10  - 1010\n",
      "11  - 1011\n",
      "12  - 1100\n",
      "13  - 1101\n",
      "14  - 1110\n",
      "15  - 1111\n",
      "16  - 10000\n",
      "17  - 10001\n",
      "18  - 10010\n",
      "19  - 10011\n"
     ]
    }
   ],
   "source": [
    "for i in range(1,20):\n",
    "    print(i,\" - \",end = '')\n",
    "    dec_to_bin(i)"
   ]
  },
  {
   "cell_type": "markdown",
   "metadata": {},
   "source": [
    "# Stack that returns minimum number in constant time"
   ]
  },
  {
   "cell_type": "code",
   "execution_count": 13,
   "metadata": {},
   "outputs": [],
   "source": [
    "class MinStack:\n",
    "    def __init__(self):\n",
    "        self.main = []\n",
    "        self.aux = []\n",
    "        \n",
    "    def isEmpty(self):\n",
    "        return len(self.main) == 0\n",
    "    \n",
    "    def peek(self):\n",
    "        if self.isEmpty():\n",
    "            return \"Stack is Empty\"\n",
    "        return self.main[-1]\n",
    "    \n",
    "    def push(self,val):\n",
    "        self.main.append(val)\n",
    "        if self.aux == [] or val < self.aux[-1]:\n",
    "            self.aux.append(val)\n",
    "    \n",
    "    def pop(self):\n",
    "        if self.main[-1] == self.aux[-1]:\n",
    "            self.aux.pop()\n",
    "        self.main.pop()\n",
    "    \n",
    "    def size(self):\n",
    "        return len(self.main)\n",
    "    \n",
    "    def minimum(self):\n",
    "        return self.aux[-1]"
   ]
  },
  {
   "cell_type": "code",
   "execution_count": 14,
   "metadata": {},
   "outputs": [
    {
     "data": {
      "text/plain": [
       "1"
      ]
     },
     "execution_count": 14,
     "metadata": {},
     "output_type": "execute_result"
    }
   ],
   "source": [
    "s = MinStack()\n",
    "s.push(4)\n",
    "s.push(8)\n",
    "s.push(5)\n",
    "s.push(1)\n",
    "s.push(9)\n",
    "s.pop()\n",
    "s.minimum()"
   ]
  },
  {
   "cell_type": "code",
   "execution_count": 15,
   "metadata": {},
   "outputs": [
    {
     "data": {
      "text/plain": [
       "4"
      ]
     },
     "execution_count": 15,
     "metadata": {},
     "output_type": "execute_result"
    }
   ],
   "source": [
    "s.pop()\n",
    "s.minimum()"
   ]
  },
  {
   "cell_type": "markdown",
   "metadata": {},
   "source": [
    "# Stack that returns minimum number in constant time & constant space"
   ]
  },
  {
   "cell_type": "markdown",
   "metadata": {},
   "source": [
    "PUSH(x):\n",
    "        If stack is empty, insert x into the stack and make minEle equal to x.\n",
    "        If stack is not empty, compare x with minEle. Two cases arise:\n",
    "        If x is greater than or equal to minEle, simply insert x.\n",
    "        If x is less than minEle, insert (2*x – minEle) into the stack and make minEle equal to x.\n",
    "        \n",
    "    \n",
    "POP(x):\n",
    "        Remove element from top. Let the removed element be y. Two cases arise:\n",
    "        If y is greater than or equal to minEle, the minimum element in the stack is still minEle.\n",
    "        If y is less than minEle, the minimum element now becomes (2*minEle – y), so update (minEle = 2*minEle – y). This is               where we retrieve previous minimum from current minimum and its value in stack."
   ]
  },
  {
   "cell_type": "code",
   "execution_count": 16,
   "metadata": {},
   "outputs": [],
   "source": [
    "class SplStack:\n",
    "    def __init__(self):\n",
    "        self.main = []\n",
    "        self.minimum = None\n",
    "        \n",
    "    def isEmpty(self):\n",
    "        return len(self.main) == 0\n",
    "    \n",
    "    def push(self,val):\n",
    "        if self.isEmpty():\n",
    "            self.main.append(val)\n",
    "            self.minimum = val\n",
    "        else:\n",
    "            if val < self.minimum:\n",
    "                self.main.append((2*(val)-(self.minimum)))\n",
    "                self.minimum = val\n",
    "            else:\n",
    "                self.main.append(val)\n",
    "    \n",
    "    def pop(self):\n",
    "        if self.isEmpty():\n",
    "            return \"Stack is empty.!\"\n",
    "        y = self.main[-1]\n",
    "        if y < self.minimum:\n",
    "            self.minimum = (2*self.minimum)-y\n",
    "        self.main.pop()\n",
    "            \n",
    "    def getMin(self):\n",
    "        return self.minimum\n",
    "    \n",
    "    def peek(self):\n",
    "        return self.main[-1]"
   ]
  },
  {
   "cell_type": "code",
   "execution_count": 17,
   "metadata": {},
   "outputs": [],
   "source": [
    "s = SplStack()"
   ]
  },
  {
   "cell_type": "code",
   "execution_count": 18,
   "metadata": {},
   "outputs": [
    {
     "name": "stdout",
     "output_type": "stream",
     "text": [
      "3\n",
      "1\n",
      "2\n"
     ]
    },
    {
     "data": {
      "text/plain": [
       "5"
      ]
     },
     "execution_count": 18,
     "metadata": {},
     "output_type": "execute_result"
    }
   ],
   "source": [
    "s.push(3)\n",
    "s.push(5)\n",
    "print(s.getMin())\n",
    "s.push(2)\n",
    "s.push(1)\n",
    "print(s.getMin())\n",
    "s.pop()\n",
    "print(s.getMin())\n",
    "s.pop()\n",
    "s.peek()"
   ]
  }
 ],
 "metadata": {
  "kernelspec": {
   "display_name": "Python 3",
   "language": "python",
   "name": "python3"
  },
  "language_info": {
   "codemirror_mode": {
    "name": "ipython",
    "version": 3
   },
   "file_extension": ".py",
   "mimetype": "text/x-python",
   "name": "python",
   "nbconvert_exporter": "python",
   "pygments_lexer": "ipython3",
   "version": "3.7.6"
  }
 },
 "nbformat": 4,
 "nbformat_minor": 4
}
